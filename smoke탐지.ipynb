{
  "nbformat": 4,
  "nbformat_minor": 0,
  "metadata": {
    "colab": {
      "provenance": [],
      "gpuType": "T4",
      "include_colab_link": true
    },
    "kernelspec": {
      "name": "python3",
      "display_name": "Python 3"
    },
    "language_info": {
      "name": "python"
    },
    "accelerator": "GPU"
  },
  "cells": [
    {
      "cell_type": "markdown",
      "metadata": {
        "id": "view-in-github",
        "colab_type": "text"
      },
      "source": [
        "<a href=\"https://colab.research.google.com/github/jysung1122/aiModel/blob/main/smoke%ED%83%90%EC%A7%80.ipynb\" target=\"_parent\"><img src=\"https://colab.research.google.com/assets/colab-badge.svg\" alt=\"Open In Colab\"/></a>"
      ]
    },
    {
      "cell_type": "markdown",
      "source": [
        "#연기탐지 모델"
      ],
      "metadata": {
        "id": "CQ-h5zWrHsGm"
      }
    },
    {
      "cell_type": "markdown",
      "source": [
        "## Pre-Trained Model 정보\n",
        "# YOLO (You Only Look Once)\n",
        "\n",
        "- 가장 빠른 객체 검출 알고리즘 중 하나\n",
        "- 256x256 사이즈의 이미지\n",
        "- 파이썬, 텐서플로 기반 프레임워크가 아닌 C++로 구현된 코드 기준 GPU 사용 시, 초당 170 프레임(170 FPS, frames per second)\n",
        "- 작은 크기의 물체를 탐지하는데는 어려움\n",
        "\n",
        "<img src=\"https://miro.medium.com/max/1400/1*bSLNlG7crv-p-m4LVYYk3Q.png\" width=\"600\">\n",
        "\n",
        "- https://pjreddie.com/darknet/yolo/\n",
        "- https://www.youtube.com/watch?v=MPU2HistivI"
      ],
      "metadata": {
        "id": "YI0FVCj9JOum"
      }
    },
    {
      "cell_type": "markdown",
      "source": [
        "### 데이터셋 다운로드\n",
        "* 연기 데이터셋을 방문하고 로그인해서 다운로드 가능한 URL을 받습니다.\n",
        "* 연기 데이터셋: https://public.roboflow.com/object-detection/wildfire-smoke/"
      ],
      "metadata": {
        "id": "Iq7bAVieJnx0"
      }
    },
    {
      "cell_type": "markdown",
      "source": [
        "### YOLO모델을 다운로드 합니다."
      ],
      "metadata": {
        "id": "Ezt4Kh8-J6v8"
      }
    },
    {
      "cell_type": "code",
      "source": [
        "%cd /content\n",
        "!git clone https://github.com/ultralytics/yolov5"
      ],
      "metadata": {
        "id": "YMUbWDYwKBnc"
      },
      "execution_count": null,
      "outputs": []
    },
    {
      "cell_type": "code",
      "source": [
        "%cd /content/yolov5\n"
      ],
      "metadata": {
        "id": "mhLqa2nqKhi8"
      },
      "execution_count": null,
      "outputs": []
    },
    {
      "cell_type": "code",
      "source": [
        "%mkdir smoke"
      ],
      "metadata": {
        "id": "HRvhQdeSVska"
      },
      "execution_count": null,
      "outputs": []
    },
    {
      "cell_type": "markdown",
      "source": [
        "폴더를 firedetect로이동해야 합니다."
      ],
      "metadata": {
        "id": "9A4CTAuFLmSt"
      }
    },
    {
      "cell_type": "code",
      "source": [
        "%cd smoke/"
      ],
      "metadata": {
        "id": "ZGqUCe9-LsUg"
      },
      "execution_count": null,
      "outputs": []
    },
    {
      "cell_type": "code",
      "source": [
        "!curl -L \"https://public.roboflow.com/ds/W9zLnutya5?key=sSzT24QClK\" > roboflow.zip; unzip roboflow.zip; rm roboflow.zip\n"
      ],
      "metadata": {
        "id": "GjX4t6G_K6jU"
      },
      "execution_count": null,
      "outputs": []
    },
    {
      "cell_type": "code",
      "source": [
        "from glob import glob\n",
        "train_img_list = glob('/content/yolov5/smoke/train/images/*.jpg')\n",
        "test_img_list = glob('/content/yolov5/smoke/test/images/*.jpg')\n",
        "valid_img_list = glob('/content/yolov5/smoke/valid/images/*.jpg')\n",
        "print(len(train_img_list), len(test_img_list), len(valid_img_list))"
      ],
      "metadata": {
        "id": "hWpcD66hL5Q0"
      },
      "execution_count": null,
      "outputs": []
    },
    {
      "cell_type": "markdown",
      "source": [
        "yaml에 데이터의 위치를 기록합니다."
      ],
      "metadata": {
        "id": "ZACvhYVCMDWU"
      }
    },
    {
      "cell_type": "code",
      "source": [
        "import yaml\n",
        "with open('/content/yolov5/smoke/train.txt','w') as f:\n",
        "    f.write('\\n'.join(train_img_list) + '\\n')\n",
        "with open('/content/yolov5/smoke/test.txt','w') as f:\n",
        "    f.write('\\n'.join(test_img_list) + '\\n')\n",
        "with open('/content/yolov5/smoke/val.txt','w') as f:\n",
        "    f.write('\\n'.join(valid_img_list) + '\\n')"
      ],
      "metadata": {
        "id": "EMHF5TpvMCp8"
      },
      "execution_count": null,
      "outputs": []
    },
    {
      "cell_type": "code",
      "source": [
        "%cat /content/yolov5/firedetect/data.yaml"
      ],
      "metadata": {
        "id": "U91q8qaTVQGC"
      },
      "execution_count": null,
      "outputs": []
    },
    {
      "cell_type": "code",
      "source": [
        "from IPython.core.magic import register_line_cell_magic\n",
        "\n",
        "@register_line_cell_magic\n",
        "def writetemplate(line,cell):\n",
        "    with open(line, 'w') as f:\n",
        "        f.write(cell.format(**globals()))"
      ],
      "metadata": {
        "id": "REEvGPPZMNOE"
      },
      "execution_count": null,
      "outputs": []
    },
    {
      "cell_type": "code",
      "source": [
        "%%writetemplate /content/yolov5/smoke/data.yaml\n",
        "\n",
        "train: ./smoke/train/images\n",
        "test: ./smoke/test/images\n",
        "val: ./smoke/valid/images\n",
        "\n",
        "nc: 1\n",
        "names: ['smoke']"
      ],
      "metadata": {
        "id": "TqtEmHnRMUgk"
      },
      "execution_count": null,
      "outputs": []
    },
    {
      "cell_type": "code",
      "source": [
        "%pwd"
      ],
      "metadata": {
        "id": "fNCmA1nLRs61"
      },
      "execution_count": null,
      "outputs": []
    },
    {
      "cell_type": "markdown",
      "source": [
        "### data.yaml을 확인"
      ],
      "metadata": {
        "id": "h9Jf3EXYMjC4"
      }
    },
    {
      "cell_type": "code",
      "source": [
        "%cat /content/yolov5/smoke/data.yaml"
      ],
      "metadata": {
        "id": "KMgDtlabVja-"
      },
      "execution_count": null,
      "outputs": []
    },
    {
      "cell_type": "markdown",
      "source": [
        "### 모델구성"
      ],
      "metadata": {
        "id": "Du6_Ae9dMoU8"
      }
    },
    {
      "cell_type": "code",
      "source": [
        "import yaml\n",
        "\n",
        "with open('/content/yolov5/smoke/data.yaml','r') as stream: # 이것은 순전히 num_classes를 가져오기 위함이다\n",
        "  num_classes = str(yaml.safe_load(stream)['nc'])\n",
        "  print(\"num_class = \" + num_classes)\n",
        "#원본의 yaml 참고용\n",
        "  print(\"다음은 YOLO의 원본 nc - 80으로 되어 있는 파일을 보여 주고 있다. 우리는 num_classes로 바꿔야한다.\")\n",
        "%cat /content/yolov5/models/yolov5s.yaml"
      ],
      "metadata": {
        "id": "jbVMz0GcMqCU"
      },
      "execution_count": null,
      "outputs": []
    },
    {
      "cell_type": "markdown",
      "source": [
        "### 아래는 custom_yolo5s.yaml을 만드는 과정이다 위에서 나온 내용을 복사해서\n",
        "nc: {num_classes} 라는 변수를 대입한 것만 다르다"
      ],
      "metadata": {
        "id": "sobel6xKWRSm"
      }
    },
    {
      "cell_type": "code",
      "source": [
        "%%writetemplate /content/yolov5/models/custom_yolov5s.yaml\n",
        "\n",
        "# Parameters\n",
        "nc: {num_classes}  # number of classes\n",
        "depth_multiple: 0.33 # model depth multiple\n",
        "width_multiple: 0.50 # layer channel multiple\n",
        "anchors:\n",
        "  - [10, 13, 16, 30, 33, 23] # P3/8\n",
        "  - [30, 61, 62, 45, 59, 119] # P4/16\n",
        "  - [116, 90, 156, 198, 373, 326] # P5/32\n",
        "\n",
        "# YOLOv5 v6.0 backbone\n",
        "backbone:\n",
        "  # [from, number, module, args]\n",
        "  [\n",
        "    [-1, 1, Conv, [64, 6, 2, 2]], # 0-P1/2\n",
        "    [-1, 1, Conv, [128, 3, 2]], # 1-P2/4\n",
        "    [-1, 3, C3, [128]],\n",
        "    [-1, 1, Conv, [256, 3, 2]], # 3-P3/8\n",
        "    [-1, 6, C3, [256]],\n",
        "    [-1, 1, Conv, [512, 3, 2]], # 5-P4/16\n",
        "    [-1, 9, C3, [512]],\n",
        "    [-1, 1, Conv, [1024, 3, 2]], # 7-P5/32\n",
        "    [-1, 3, C3, [1024]],\n",
        "    [-1, 1, SPPF, [1024, 5]], # 9\n",
        "  ]\n",
        "\n",
        "# YOLOv5 v6.0 head\n",
        "head: [\n",
        "    [-1, 1, Conv, [512, 1, 1]],\n",
        "    [-1, 1, nn.Upsample, [None, 2, \"nearest\"]],\n",
        "    [[-1, 6], 1, Concat, [1]], # cat backbone P4\n",
        "    [-1, 3, C3, [512, False]], # 13\n",
        "\n",
        "    [-1, 1, Conv, [256, 1, 1]],\n",
        "    [-1, 1, nn.Upsample, [None, 2, \"nearest\"]],\n",
        "    [[-1, 4], 1, Concat, [1]], # cat backbone P3\n",
        "    [-1, 3, C3, [256, False]], # 17 (P3/8-small)\n",
        "\n",
        "    [-1, 1, Conv, [256, 3, 2]],\n",
        "    [[-1, 14], 1, Concat, [1]], # cat head P4\n",
        "    [-1, 3, C3, [512, False]], # 20 (P4/16-medium)\n",
        "\n",
        "    [-1, 1, Conv, [512, 3, 2]],\n",
        "    [[-1, 10], 1, Concat, [1]], # cat head P5\n",
        "    [-1, 3, C3, [1024, False]], # 23 (P5/32-large)\n",
        "\n",
        "    [[17, 20, 23], 1, Detect, [nc, anchors]], # Detect(P3, P4, P5)\n",
        "  ]"
      ],
      "metadata": {
        "id": "JpahKnytM080"
      },
      "execution_count": null,
      "outputs": []
    },
    {
      "cell_type": "code",
      "source": [
        "%pwd"
      ],
      "metadata": {
        "id": "l3eFzUHZTVlF"
      },
      "execution_count": null,
      "outputs": []
    },
    {
      "cell_type": "markdown",
      "source": [
        "### 완성된 custom_yolov5.yaml을 확인한다."
      ],
      "metadata": {
        "id": "LlO-j3Z_Wmyp"
      }
    },
    {
      "cell_type": "code",
      "source": [
        "%cat /content/yolov5/models/custom_yolov5s.yaml\n"
      ],
      "metadata": {
        "id": "DlKPxXr4M-BU"
      },
      "execution_count": null,
      "outputs": []
    },
    {
      "cell_type": "code",
      "source": [
        "%cat /content/yolov5/smoke/data.yaml"
      ],
      "metadata": {
        "id": "tSl69UBvTRzf"
      },
      "execution_count": null,
      "outputs": []
    },
    {
      "cell_type": "markdown",
      "source": [
        "### 학습(Training)\n",
        "\n",
        "* `img`: 입력 이미지 크기 정의\n",
        "* `batch`: 배치 크기 결정\n",
        "* `epochs`: 학습 기간 개수 정의\n",
        "* `data`: yaml 파일 경로\n",
        "* `cfg`: 모델 구성 지정 **굵은 텍스트**\n",
        "* `weights`: 가중치에 대한 경로 지정\n",
        "* `name`: 결과 이름\n",
        "* `nosave`: 최종 체크포인트만 저장\n",
        "* `cache`: 빠른 학습을 위한 이미지 캐시"
      ],
      "metadata": {
        "id": "bPSHExrUNDpV"
      }
    },
    {
      "cell_type": "markdown",
      "source": [
        "### 아래 애러 나서 batch=16으로 바꿨음. 이거 GPU 메모리에 따라"
      ],
      "metadata": {
        "id": "GZ2F3laVobxo"
      }
    },
    {
      "cell_type": "code",
      "source": [
        "%%time\n",
        "%cd /content/yolov5/\n",
        "!python train.py --img 640 --batch 16 --epochs 100 --data ./smoke/data.yaml --cfg ./models/custom_yolov5s.yaml --weights '' --name smoke_result --cache"
      ],
      "metadata": {
        "id": "1Z6tLLVoNG4l"
      },
      "execution_count": null,
      "outputs": []
    },
    {
      "cell_type": "code",
      "source": [
        "%load_ext tensorboard\n",
        "%tensorboard --logdir runs"
      ],
      "metadata": {
        "id": "nu7NeYX0NSS3"
      },
      "execution_count": null,
      "outputs": []
    },
    {
      "cell_type": "code",
      "source": [
        "!ls /content/yolov5/runs/train/smoke_result"
      ],
      "metadata": {
        "id": "FmUh4r5mNWTd"
      },
      "execution_count": null,
      "outputs": []
    },
    {
      "cell_type": "code",
      "source": [
        "!pip install -qr requirements.txt  # install dependencies (ignore errors)\n",
        "import torch\n",
        "\n",
        "from IPython.display import Image, clear_output  # to display images\n",
        "\n",
        "# clear_output()\n",
        "print('Setup complete. Using torch %s %s' % (torch.__version__, torch.cuda.get_device_properties(0) if torch.cuda.is_available() else 'CPU'))"
      ],
      "metadata": {
        "id": "HPr04y7cqS6O"
      },
      "execution_count": null,
      "outputs": []
    },
    {
      "cell_type": "code",
      "source": [
        "Image(filename='/content/yolov5/runs/train/smoke_result3/val_batch2_labels.jpg',width = 600)"
      ],
      "metadata": {
        "id": "B1A3sOz1NfeX"
      },
      "execution_count": null,
      "outputs": []
    },
    {
      "cell_type": "code",
      "source": [
        "# Validation\n",
        "!python val.py --weights /content/yolov5/runs/train/smoke_result/weights/best.pt --data /content/yolov5/smoke/data.yaml --img 640 --iou 0.65 --half"
      ],
      "metadata": {
        "id": "Gq_4qL_UNluG"
      },
      "execution_count": null,
      "outputs": []
    },
    {
      "cell_type": "markdown",
      "source": [],
      "metadata": {
        "id": "nZGBYyetOHHF"
      }
    },
    {
      "cell_type": "code",
      "source": [
        "# inference\n",
        "%ls /content/yolov5/runs/train/smoke_result/weights"
      ],
      "metadata": {
        "id": "tykR7l1uN9--"
      },
      "execution_count": null,
      "outputs": []
    },
    {
      "cell_type": "code",
      "source": [
        "!python detect.py --weights /content/yolov5/runs/train/smoke_result/weights/best.pt --img 640 --conf 0.4 --source ./smoke/test/images"
      ],
      "metadata": {
        "id": "88cfty5yOUoT"
      },
      "execution_count": null,
      "outputs": []
    },
    {
      "cell_type": "code",
      "source": [
        "import glob\n",
        "import random\n",
        "from IPython.display import Image, display\n",
        "\n",
        "image_name = random.choice(glob.glob('/content/yolov5/runs/detect/exp/*.jpg'))\n",
        "\n",
        "display(Image(filename=image_name))"
      ],
      "metadata": {
        "id": "Lvpe1yxWOf3U"
      },
      "execution_count": null,
      "outputs": []
    },
    {
      "cell_type": "markdown",
      "source": [
        "### 모델 내보내기"
      ],
      "metadata": {
        "id": "FA31NAIjOpCl"
      }
    },
    {
      "cell_type": "code",
      "source": [
        "from google.colab import drive\n",
        "drive.mount('/content/drive')\n",
        "%mkdir /content/drive/MyDrive/smoke\n",
        "%cp /content/yolov5/runs/train/firedetect_result/weights/best.pt /content/drive/MyDrive/smoke"
      ],
      "metadata": {
        "id": "7cCpZF-JOscd"
      },
      "execution_count": null,
      "outputs": []
    },
    {
      "cell_type": "code",
      "source": [],
      "metadata": {
        "id": "wCmWGL7POozs"
      },
      "execution_count": null,
      "outputs": []
    }
  ]
}